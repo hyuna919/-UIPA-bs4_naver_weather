{
 "cells": [
  {
   "cell_type": "code",
   "execution_count": 1,
   "metadata": {},
   "outputs": [],
   "source": [
    "import requests\n",
    "from bs4 import BeautifulSoup as bs"
   ]
  },
  {
   "cell_type": "code",
   "execution_count": 2,
   "metadata": {},
   "outputs": [],
   "source": [
    "#정보를 가져오려는 사이트의 html 전부 가져오기\n",
    "url = \"https://search.naver.com/search.naver?where=nexearch&sm=top_hty&fbm=1&ie=utf8&query=%EB%82%A0%EC%94%A8\"\n",
    "html = requests.get(url)\n",
    "print(html.text)"
   ]
  },
  {
   "cell_type": "code",
   "execution_count": 3,
   "metadata": {},
   "outputs": [],
   "source": [
    "#html을 전부가져오면 위의 결과처럼 태그와 정보가 섞여서 가독성이 떨어지는데 이때 bs4로 쉽게 필요한 부분을 찾을 수 있다.\n",
    "b = bs(html.content,\"html.parser\")"
   ]
  },
  {
   "cell_type": "code",
   "execution_count": 4,
   "metadata": {},
   "outputs": [],
   "source": [
    "#bs4로 필요한 부분을 찾는 함수는 select와 find, findall이 있는데 find와 findall은 html태그 기준으로 찾는 기능입니다.\n",
    "#여기서는 find, findall만 사용합니다.\n",
    "weather_box=b.find('div',{'class':'weather_box'})\n",
    "print(weather_box)"
   ]
  },
  {
   "cell_type": "code",
   "execution_count": 5,
   "metadata": {},
   "outputs": [],
   "source": [
    "day = weather_box.find_all(\"span\",{\"class\":\"day_info\"})\n",
    "real_day = []\n",
    "for i in day:\n",
    "    real_day.append(i.text)\n",
    "    \n",
    "day = []\n",
    "for i in real_day:\n",
    "    print(i)\n",
    "    day.append(i.split(\" \"))\n",
    "\n",
    "for i in day:\n",
    "    del i[2]\n",
    "    \n",
    "day"
   ]
  },
  {
   "cell_type": "code",
   "execution_count": 14,
   "metadata": {},
   "outputs": [],
   "source": [
    "temp = weather_box.find_all(\"li\",{\"class\":\"date_info today\"})\n",
    "res_temp=[]\n",
    "j=0\n",
    "for i in temp:\n",
    "    res_temp.append(i.find(\"dl\").text[-8:-1])\n",
    "    \n",
    "print(res_temp)"
   ]
  },
  {
   "cell_type": "code",
   "execution_count": 15,
   "metadata": {},
   "outputs": [
    {
     "data": {
      "text/plain": [
       "'10°/19°'"
      ]
     },
     "execution_count": 15,
     "metadata": {},
     "output_type": "execute_result"
    }
   ],
   "source": [
    "res_temp[0]"
   ]
  },
  {
   "cell_type": "code",
   "execution_count": 16,
   "metadata": {},
   "outputs": [],
   "source": [
    "import re"
   ]
  },
  {
   "cell_type": "code",
   "execution_count": 17,
   "metadata": {},
   "outputs": [
    {
     "name": "stdout",
     "output_type": "stream",
     "text": [
      "[['10', '19'], ['9', '17'], ['7', '15'], ['5', '15'], ['6', '17'], ['8', '19'], ['13', '20'], ['8', '16'], ['7', '18'], ['7', '20']]\n"
     ]
    }
   ],
   "source": [
    "res = []\n",
    "j=0\n",
    "for i in res_temp:\n",
    "   res.append(re.findall(\"\\d+\",i))\n",
    "print(res)"
   ]
  },
  {
   "cell_type": "code",
   "execution_count": 18,
   "metadata": {},
   "outputs": [
    {
     "name": "stdout",
     "output_type": "stream",
     "text": [
      "오늘 최저기온은 10도이고 최고기온은 19도입니다.\n"
     ]
    }
   ],
   "source": [
    "print(f\"{day[0][1]} 최저기온은 {res[0][0]}도이고 최고기온은 {res[0][1]}도입니다.\")"
   ]
  },
  {
   "cell_type": "code",
   "execution_count": null,
   "metadata": {},
   "outputs": [],
   "source": []
  },
  {
   "cell_type": "code",
   "execution_count": null,
   "metadata": {},
   "outputs": [],
   "source": []
  }
 ],
 "metadata": {
  "kernelspec": {
   "display_name": "Python 3",
   "language": "python",
   "name": "python3"
  },
  "language_info": {
   "codemirror_mode": {
    "name": "ipython",
    "version": 3
   },
   "file_extension": ".py",
   "mimetype": "text/x-python",
   "name": "python",
   "nbconvert_exporter": "python",
   "pygments_lexer": "ipython3",
   "version": "3.8.5"
  }
 },
 "nbformat": 4,
 "nbformat_minor": 4
}
